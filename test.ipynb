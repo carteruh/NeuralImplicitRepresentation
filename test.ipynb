{
 "cells": [
  {
   "cell_type": "code",
   "execution_count": 13,
   "metadata": {},
   "outputs": [
    {
     "name": "stdout",
     "output_type": "stream",
     "text": [
      "1.11.0+cu113\n",
      "11.3\n",
      "nvcc: NVIDIA (R) Cuda compiler driver\n",
      "Copyright (c) 2005-2019 NVIDIA Corporation\n",
      "Built on Sun_Jul_28_19:07:16_PDT_2019\n",
      "Cuda compilation tools, release 10.1, V10.1.243\n"
     ]
    }
   ],
   "source": [
    "import torch\n",
    "print(torch.__version__)\n",
    "print(torch.version.cuda)\n",
    "!nvcc --version"
   ]
  },
  {
   "cell_type": "code",
   "execution_count": null,
   "metadata": {},
   "outputs": [
    {
     "ename": "SyntaxError",
     "evalue": "invalid syntax (2747180621.py, line 1)",
     "output_type": "error",
     "traceback": [
      "\u001b[0;36m  Cell \u001b[0;32mIn[4], line 1\u001b[0;36m\u001b[0m\n\u001b[0;31m    python main.py --data_dir data/multi_part/fridge_10489 --cfg_dir config/release/ --num_parts 3 --save_dir runs/pretrained_multi_part_fridge_10489 --ckpt_path runs/pretrained_ckpts/pretrained_multi_part_fridge_10489/ckpt/model_latest.pth --test_only\u001b[0m\n\u001b[0m           ^\u001b[0m\n\u001b[0;31mSyntaxError\u001b[0m\u001b[0;31m:\u001b[0m invalid syntax\n"
     ]
    }
   ],
   "source": [
    "python main.py --data_dir data/multi_part/fridge_10489 --cfg_dir config/release/ --num_parts 3 --save_dir runs/pretrained_multi_part_fridge_10489 --ckpt_path runs/pretrained_ckpts/pretrained_multi_part_fridge_10489/ckpt/model_latest.pth --test_only\n",
    "python main.py --data_dir data/paris/scissor_11100 --cfg_dir config/release/ --num_parts 2 --save_dir runs/pretrained_paris_scissors_11100 --ckpt_path runs/pretrained_ckpts/pretrained_paris_scissor_11100/ckpt/model_latest.pth --test_only  \n",
    "python main.py --data_dir data/paris/stapler_103111 --cfg_dir config/release/ --num_parts 2 --save_dir runs/pretrained_paris_stapler_103111 --ckpt_path runs/pretrained_ckpts/pretrained_paris_scissor_11100/ckpt/model_latest.pth --test_only  \n",
    "python main.py --data_dir data/paris/knife_101217 --cfg_dir config/release/ --num_parts 2 --save_dir runs/paris_knife --ckpt_path runs/pretrained_ckpts/pretrained_paris_scissor_11100/ckpt/model_latest.pth --test_only  \n",
    "python main.py --data_dir data/paris/blade_103706/ --cfg_dir config/release/ --num_parts 2 --save_dir runs/pretrained_paris_blade_103706 --ckpt_path runs/pretrained_ckpts/pretrained_paris_blade_103706/ckpt/model_latest.pth --test_only  \n",
    "\n",
    "# Eval\n",
    "python eval/eval_results.py --gt_path data/paris/scissor_11100/gt --pred_path runs/pretrained_paris_scissors_11100/results/step_0004000\n",
    "python eval/eval_mesh.py --gt_folder data/paris/scissor_11100/gt --gt_s data/paris/blade_103706/gt/start/start_static_rotate.ply --gt_d data/paris/blade_103706/gt/start/start_dynamic_rotate.ply --gt_w data/paris/blade_103706/gt/start/start_rotate.ply --pred_folder runs/pretrained_paris_scissors_11100/results/step_0004000 --pred_s runs/pretrained_paris_scissors_11100/results/step_0004000/init_part_0.obj --pred_d runs/pretrained_paris_scissors_11100/results/step_0004000/init_part_1.obj --pred_w runs/pretrained_paris_scissors_11100/results/step_0004000/init_all.obj \n",
    "\n",
    "# Generate LOFTR Correspondences (if correspondence runs out of memory either use compression to reduce file size or reduce batch size)\n",
    "python gen_correspondence.py --data_path ../data/paris/knife_101217_train_set/ --output_path ../data/paris/knife_101217_train_set/correspondence_loftr  --top_k=30\n",
    "python gen_correspondence.py --data_path ../data/paris/USB_100109/ --output_path ../data/paris/USB_100109/correspondence_loftr2  --top_k=30\n",
    "\n",
    "\n",
    "# Train \n",
    "python main.py --data_dir data/paris/knife_101217_train_set/ --cfg_dir config/release/ --num_parts 2 --save_dir runs/knife_101217_train_set\n",
    "python main.py --data_dir data/paris/USB_100109 --cfg_dir config/release/ --num_parts 2 --save_dir runs/partnet_USB_100109_train"
   ]
  },
  {
   "cell_type": "markdown",
   "metadata": {},
   "source": [
    "# Preprocessing Data\n",
    "* Mask\n",
    "* GT\n",
    "* Color\n",
    "* Depth \n",
    "* LoFTR\n",
    "\n",
    "* Keyframes is the cam object in the camera.json file"
   ]
  },
  {
   "cell_type": "markdown",
   "metadata": {},
   "source": [
    "# Compute Depth"
   ]
  },
  {
   "cell_type": "code",
   "execution_count": 10,
   "metadata": {},
   "outputs": [
    {
     "name": "stdout",
     "output_type": "stream",
     "text": [
      "0 255\n"
     ]
    }
   ],
   "source": [
    "import cv2\n",
    "import numpy as np\n",
    "import matplotlib.pyplot as plt\n",
    "\n",
    "# Load the image (ensure the image is grayscale)\n",
    "image = cv2.imread('./data/paris/knife_101217/mask/00000_000.png', cv2.IMREAD_UNCHANGED)\n",
    "\n",
    "# Check if image was loaded successfully\n",
    "if image is None:\n",
    "    raise ValueError(\"Image not loaded properly. Check the path.\")\n",
    "\n",
    "print(image.min(), image.max())\n",
    "# Normalize the image to the range [0, 1]\n",
    "# The object has pixel values between 0 and 255 (grayscale), so we scale it\n",
    "# No need to invert here, just normalize as is\n",
    "# normalized_depth = cv2.normalize(image, None, alpha=0, beta=1, norm_type=cv2.NORM_MINMAX, dtype=cv2.CV_32F)\n",
    "# # Invert the normalized values so black (0) becomes 1 and white (1) becomes 0\n",
    "# inverted_depth = .8 (1 - normalized_depth)\n",
    "# # Save or display the resulting depth map\n",
    "# plt.imshow(inverted_depth, cmap='gray')\n",
    "# plt.colorbar(label='Depth Scale')\n",
    "# plt.title('Depth Map')\n",
    "# plt.show()\n",
    "\n",
    "# Save the depth map (optional)\n",
    "# cv2.imwrite('depth_map.png', (inverted_depth * 255).astype(np.uint8))  # Scaled back to 0-255 for saving\n"
   ]
  },
  {
   "cell_type": "markdown",
   "metadata": {},
   "source": [
    "# Make cam_k.txt and init_keyframes.yml"
   ]
  },
  {
   "cell_type": "code",
   "execution_count": null,
   "metadata": {},
   "outputs": [],
   "source": [
    "import json\n",
    "import numpy as np\n",
    "import yaml\n",
    "\n",
    "# The provided JSON camera_train data\n",
    "camera_train_json = '''\n",
    "{\n",
    "    \"K\": [[1111.111111111111, 0, 400.0], [0.0, 1111.111111111111, 400.0], [0.0, 0.0, 1.0]],\n",
    "    \"0000\": [[-0.25941553711891174, 0.83037269115448, -0.4931377172470093, -1.5780407190322876], [-0.9657658338546753, -0.2230474203824997, 0.13246232271194458, 0.4238794445991516], [0.0, 0.5106183886528015, 0.8598074913024902, 2.7513840198516846], [0.0, 0.0, 0.0, 1.0]],\n",
    "    \"0001\": [[-0.8676013946533203, -0.29778850078582764, 0.3982335031032562, 1.274347186088562], [0.4972604215145111, -0.5195702314376831, 0.6948229074478149, 2.223433256149292], [0.0, 0.8008551001548767, 0.5988582372665405, 1.9163464307785034], [0.0, 0.0, 0.0, 1.0]],\n",
    "    \"0002\": [[0.45632070302963257, 0.4698680639266968, -0.7556424140930176, -2.418055772781372], [-0.8898155093193054, 0.24096064269542694, -0.3875132203102112, -1.2400423288345337], [-1.4901162970204496e-08, 0.8492125868797302, 0.5280511379241943, 1.6897636651992798], [0.0, 0.0, 0.0, 1.0]],\n",
    "    \"0003\": [[0.9980420470237732, -0.03329584747552872, 0.0529484786093235, 0.16943512856960297], [0.0625472217798233, 0.5312891006469727, -0.8448785543441772, -2.703611373901367], [-3.725290298461914e-09, 0.8465360999107361, 0.5323313474655151, 1.7034603357315063], [0.0, 0.0, 0.0, 1.0]]\n",
    "}\n",
    "'''\n",
    "\n",
    "# Convert the JSON string to a Python dictionary\n",
    "camera_train = json.loads(camera_train_json)\n",
    "\n",
    "# Prepare the dictionary to store data in YAML format\n",
    "yaml_data = {}\n",
    "\n",
    "# First, handle the intrinsic matrix \"K\"\n",
    "yaml_data['intrinsic'] = {'K': camera_train['K']}\n",
    "\n",
    "# Now, handle the transformation matrices for each frame\n",
    "yaml_data['keyframes'] = {}\n",
    "for key in camera_train:\n",
    "    if key != 'K':  # Skip 'K' because it's the intrinsic matrix\n",
    "        yaml_data['keyframes'][key] = camera_train[key]\n",
    "\n",
    "# Write the data to a YAML file\n",
    "with open('init_keyframes.yml', 'w') as yaml_file:\n",
    "    yaml.dump(yaml_data, yaml_file, default_flow_style=False, sort_keys=False)\n",
    "\n",
    "# Output success message\n",
    "print(\"Data successfully written to init_keyframes.yml\")\n"
   ]
  },
  {
   "cell_type": "markdown",
   "metadata": {},
   "source": [
    "# Generate Masks"
   ]
  },
  {
   "cell_type": "code",
   "execution_count": 7,
   "metadata": {},
   "outputs": [
    {
     "data": {
      "image/png": "[encoded data removed]",
      "text/plain": [
       "<Figure size 640x480 with 1 Axes>"
      ]
     },
     "metadata": {},
     "output_type": "display_data"
    },
    {
     "data": {
      "text/plain": [
       "True"
      ]
     },
     "execution_count": 7,
     "metadata": {},
     "output_type": "execute_result"
    }
   ],
   "source": [
    "# Load the image with the alpha channel\n",
    "image = cv2.imread('/media/qil/DATA/Carter_Articulated_Objects/NeuralImplicitRepresentation/data/multi_part/knife_101217/color_segmented/end/test/0002.png', cv2.IMREAD_UNCHANGED)\n",
    "\n",
    "# Split the image into its components (R, G, B, and Alpha)\n",
    "b, g, r, alpha = cv2.split(image)\n",
    "\n",
    "# Use the alpha channel as the mask (non-transparent areas will be 1, transparent will be 0)\n",
    "mask = alpha\n",
    "\n",
    "# Display the mask\n",
    "plt.imshow(mask, cmap='gray')\n",
    "plt.title('Alpha Mask')\n",
    "plt.show()\n",
    "\n",
    "# Save the mask (optional)\n",
    "cv2.imwrite('alpha_mask.png', mask)\n"
   ]
  },
  {
   "cell_type": "markdown",
   "metadata": {},
   "source": [
    "# Color Segmented Images \n"
   ]
  },
  {
   "cell_type": "code",
   "execution_count": 20,
   "metadata": {},
   "outputs": [
    {
     "name": "stdout",
     "output_type": "stream",
     "text": [
      "[[0 0 0 ... 0 0 0]\n",
      " [0 0 0 ... 0 0 0]\n",
      " [0 0 0 ... 0 0 0]\n",
      " ...\n",
      " [0 0 0 ... 0 0 0]\n",
      " [0 0 0 ... 0 0 0]\n",
      " [0 0 0 ... 0 0 0]]\n"
     ]
    },
    {
     "data": {
      "image/png": "[encoded data removed]",
      "text/plain": [
       "<Figure size 640x480 with 2 Axes>"
      ]
     },
     "metadata": {},
     "output_type": "display_data"
    }
   ],
   "source": [
    "import cv2\n",
    "import numpy as np\n",
    "import matplotlib.pyplot as plt\n",
    "\n",
    "# Load the image (grayscale or depth map)\n",
    "image = cv2.imread('/media/qil/DATA/Carter_Articulated_Objects/NeuralImplicitRepresentation/data/multi_part/knife_101217/color_segmented/start/test/0001.png', cv2.IMREAD_GRAYSCALE)\n",
    "\n",
    "# Check if image is loaded properly\n",
    "if image is None:\n",
    "    raise ValueError(\"Image not loaded properly. Check the path.\")\n",
    "\n",
    "# Set all pixel values over 200 to 0\n",
    "image[image > 200] = 0\n",
    "\n",
    "# Print the modified image (to see the matrix, optional)\n",
    "print(image)\n",
    "\n",
    "# Display the resulting scaled image\n",
    "plt.imshow(image, cmap='gray')\n",
    "plt.title('Image with Pixel Values > 200 Set to 0')\n",
    "plt.colorbar(label='Pixel Intensity')\n",
    "plt.show()\n"
   ]
  },
  {
   "cell_type": "markdown",
   "metadata": {},
   "source": [
    "# Convert to Key init frames \n"
   ]
  },
  {
   "cell_type": "code",
   "execution_count": null,
   "metadata": {},
   "outputs": [],
   "source": [
    "import json\n",
    "import numpy as np\n",
    "\n",
    "# Assuming the camera_train data is provided as a JSON string (or dictionary)\n",
    "camera_train_json = './data/paris/knife_101217/camera_test.json'\n",
    "\n",
    "# Convert the JSON string to a Python dictionary (skip this if it's already a dict)\n",
    "camera_train = json.loads(camera_train_json)\n",
    "\n",
    "# Function to convert the transformation matrices to numpy arrays\n",
    "camera_train_np = {key: np.array(value) for key, value in camera_train.items()}\n",
    "\n",
    "# Example: Access the intrinsic matrix 'K'\n",
    "K_matrix = camera_train_np['K']\n",
    "print(\"Intrinsic matrix K:\", K_matrix)\n",
    "\n",
    "# Example: Access a transformation matrix '0000'\n",
    "T_matrix_0000 = camera_train_np['0000']\n",
    "print(\"Transformation matrix 0000:\", T_matrix_0000)\n"
   ]
  },
  {
   "cell_type": "markdown",
   "metadata": {},
   "source": [
    "# Visualize Objects"
   ]
  },
  {
   "cell_type": "code",
   "execution_count": 1,
   "metadata": {},
   "outputs": [
    {
     "name": "stdout",
     "output_type": "stream",
     "text": [
      "Jupyter environment detected. Enabling Open3D WebVisualizer.\n",
      "[Open3D INFO] WebRTC GUI backend enabled.\n",
      "[Open3D INFO] WebRTCWindowSystem: HTTP handshake server disabled.\n",
      "\u001b[1;33m[Open3D WARNING] GLFW Error: X11: The DISPLAY environment variable is missing\u001b[0;m\n",
      "\u001b[1;33m[Open3D WARNING] Failed to initialize GLFW\u001b[0;m\n",
      "\u001b[1;33m[Open3D WARNING] [DrawGeometries] Failed creating OpenGL window.\u001b[0;m\n"
     ]
    }
   ],
   "source": [
    "import open3d as o3d\n",
    "\n",
    "# Load the initial and final part OBJ files\n",
    "init_part_0 = o3d.io.read_triangle_mesh(\"./runs/knife_101217/results/step_0004000/init_part_0.obj\")\n",
    "init_part_1 = o3d.io.read_triangle_mesh(\"./runs/knife_101217/results/step_0004000/init_part_1.obj\")\n",
    "last_part_0 = o3d.io.read_triangle_mesh(\"./runs/knife_101217/results/step_0004000/last_part_0.obj\")\n",
    "last_part_1 = o3d.io.read_triangle_mesh(\"./runs/knife_101217/results/step_0004000/last_part_1.obj\")\n",
    "\n",
    "# Load the predicted revolute axis\n",
    "axis = o3d.io.read_triangle_mesh(\"./runs/knife_101217/results/step_0004000/init_axis_0_revolute.obj\")\n",
    "\n",
    "# Color the parts differently\n",
    "init_part_0.paint_uniform_color([1, 0, 0])  # Red\n",
    "init_part_1.paint_uniform_color([0, 1, 0])  # Green\n",
    "last_part_0.paint_uniform_color([0, 0, 1])  # Blue\n",
    "last_part_1.paint_uniform_color([1, 1, 0])  # Yellow\n",
    "axis.paint_uniform_color([1, 0, 1])  # Magenta\n",
    "\n",
    "# Visualize everything\n",
    "o3d.visualization.draw_geometries([init_part_0, init_part_1, last_part_0, last_part_1, axis])\n"
   ]
  }
 ],
 "metadata": {
  "kernelspec": {
   "display_name": "Python 3",
   "language": "python",
   "name": "python3"
  },
  "language_info": {
   "codemirror_mode": {
    "name": "ipython",
    "version": 3
   },
   "file_extension": ".py",
   "mimetype": "text/x-python",
   "name": "python",
   "nbconvert_exporter": "python",
   "pygments_lexer": "ipython3",
   "version": "3.8.19"
  }
 },
 "nbformat": 4,
 "nbformat_minor": 2
}
